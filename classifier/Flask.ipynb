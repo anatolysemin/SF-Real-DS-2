{
 "cells": [
  {
   "cell_type": "code",
   "execution_count": 1,
   "metadata": {},
   "outputs": [],
   "source": [
    "from flask import Flask, request\n",
    "from application import app\n",
    "from spam_classifier import train\n",
    "from flask import jsonify\n",
    "from spam_classifier import classify"
   ]
  },
  {
   "cell_type": "code",
   "execution_count": 4,
   "metadata": {},
   "outputs": [],
   "source": [
    "train()"
   ]
  },
  {
   "cell_type": "code",
   "execution_count": 2,
   "metadata": {},
   "outputs": [],
   "source": [
    "@app.route('/hello_user', methods=['POST'])\n",
    "def hello_user():\n",
    "    data = request.json\n",
    "    user = data['user']\n",
    "    return f'hello, {user}'\n",
    "\n",
    "@app.route('/plus_one', methods=['POST'])\n",
    "def plus_one():\n",
    "    data = request.get_data()\n",
    "    return f'Result {int(data) + 1}'\n",
    "\n",
    "# @app.route('/classify_text', methods=['POST'])\n",
    "# def classify_text():\n",
    "#     data = request.json\n",
    "#     text = data['text']\n",
    "#     train()\n",
    "#     result = classify(text)\n",
    "#     return jsonify({'result': result})\n",
    "\n",
    "@app.route('/classify_text', methods=['POST'])\n",
    "def classify_text():\n",
    "    data = request.json\n",
    "    text = data.get('text') \n",
    "#Метод возвращает None, если запрашиваемого ключа нет\n",
    "    if text is None:\n",
    "        params = ', '.join(data.keys()) \n",
    "#Преобразуем все полученные параметры в строку\n",
    "        return jsonify({'message': f'Parametr \"{params}\" is invalid'}), 400 \n",
    "#Ранее мы не указывали код ответа HTTP явно,\n",
    "#но на самом деле Flask выполнял эту работу за нас. \n",
    "#По умолчанию возвращается 200\n",
    "    else:\n",
    "        result = classify(text)\n",
    "        return jsonify({'result': result})"
   ]
  },
  {
   "cell_type": "code",
   "execution_count": 5,
   "metadata": {},
   "outputs": [
    {
     "name": "stdout",
     "output_type": "stream",
     "text": [
      " * Serving Flask app \"application\" (lazy loading)\n",
      " * Environment: production\n",
      "   WARNING: This is a development server. Do not use it in a production deployment.\n",
      "   Use a production WSGI server instead.\n",
      " * Debug mode: off\n"
     ]
    },
    {
     "name": "stderr",
     "output_type": "stream",
     "text": [
      " * Running on http://127.0.0.1:5000/ (Press CTRL+C to quit)\n",
      "127.0.0.1 - - [17/Mar/2020 10:00:16] \"\u001b[37mPOST /classify_text HTTP/1.1\u001b[0m\" 200 -\n"
     ]
    }
   ],
   "source": [
    "app.run()"
   ]
  },
  {
   "cell_type": "code",
   "execution_count": null,
   "metadata": {},
   "outputs": [],
   "source": []
  }
 ],
 "metadata": {
  "kernelspec": {
   "display_name": "Python 3",
   "language": "python",
   "name": "python3"
  },
  "language_info": {
   "codemirror_mode": {
    "name": "ipython",
    "version": 3
   },
   "file_extension": ".py",
   "mimetype": "text/x-python",
   "name": "python",
   "nbconvert_exporter": "python",
   "pygments_lexer": "ipython3",
   "version": "3.7.4"
  }
 },
 "nbformat": 4,
 "nbformat_minor": 2
}
