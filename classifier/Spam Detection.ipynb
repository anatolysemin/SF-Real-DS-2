{
 "cells": [
  {
   "cell_type": "code",
   "execution_count": 17,
   "metadata": {},
   "outputs": [],
   "source": [
    "import math\n",
    "import string"
   ]
  },
  {
   "cell_type": "code",
   "execution_count": 18,
   "metadata": {},
   "outputs": [],
   "source": [
    "pA, pNotA = 0, 0"
   ]
  },
  {
   "cell_type": "code",
   "execution_count": 19,
   "metadata": {},
   "outputs": [],
   "source": [
    "SPAM, NOT_SPAM = 1, 0"
   ]
  },
  {
   "cell_type": "code",
   "execution_count": 20,
   "metadata": {},
   "outputs": [],
   "source": [
    "spam_list, not_spam_list = {}, {}"
   ]
  },
  {
   "cell_type": "code",
   "execution_count": 21,
   "metadata": {},
   "outputs": [],
   "source": [
    "total_spam, total_not_spam = 0,0"
   ]
  },
  {
   "cell_type": "code",
   "execution_count": 23,
   "metadata": {},
   "outputs": [],
   "source": [
    "def get_words(body):\n",
    "    first = body.lower()\n",
    "    second = str.maketrans(dict.fromkeys(string.punctuation))\n",
    "    third = first.translate(second)\n",
    "    body = third.split()\n",
    "#     print(body)\n",
    "    return body"
   ]
  },
  {
   "cell_type": "code",
   "execution_count": 24,
   "metadata": {},
   "outputs": [],
   "source": [
    "def calculate_word_frequencies(body, label):\n",
    "    global spam_list, not_spam_list, total_spam, total_not_spam\n",
    "    words = get_words(body)\n",
    "    for word in words:\n",
    "        if label ==  SPAM:\n",
    "            spam_list[word] = spam_list.get(word, 0) + 1\n",
    "            total_spam += 1\n",
    "        else:\n",
    "            not_spam_list[word] = not_spam_list.get(word, 0) + 1\n",
    "            total_not_spam += 1"
   ]
  },
  {
   "cell_type": "code",
   "execution_count": 25,
   "metadata": {},
   "outputs": [],
   "source": [
    "def train():\n",
    "    global pA, pNotA\n",
    "    train_data = [  \n",
    "        ['Купите новое чистящее средство', SPAM],   \n",
    "        ['Купи мою новую книгу', SPAM],  \n",
    "        ['Подари себе новый телефон', SPAM],\n",
    "        ['Добро пожаловать и купите новый телевизор', SPAM],\n",
    "        ['Привет давно не виделись', NOT_SPAM], \n",
    "        ['Довезем до аэропорта из пригорода всего за 399 рублей', SPAM], \n",
    "        ['Добро пожаловать в Мой Круг', NOT_SPAM],  \n",
    "        ['Я все еще жду документы', NOT_SPAM],  \n",
    "        ['Приглашаем на конференцию Data Science', NOT_SPAM],\n",
    "        ['Потерял твой телефон напомни', NOT_SPAM],\n",
    "        ['Порадуй своего питомца новым костюмом', SPAM]\n",
    "    ]  \n",
    "    num_spam = 0\n",
    "    for words,label in train_data:\n",
    "        calculate_word_frequencies(words, label)\n",
    "        if label == SPAM:\n",
    "            num_spam += 1\n",
    "    pA =  num_spam / len(train_data)\n",
    "    pNotA = 1 - pA"
   ]
  },
  {
   "cell_type": "code",
   "execution_count": 26,
   "metadata": {},
   "outputs": [],
   "source": [
    "def calculate_P_Bi_A(word, label):\n",
    "    if label == SPAM: \n",
    "        return (spam_list.get(word, 0) + 1) / (total_spam + 1)# !!!!  Может в знаменателе сумма ВСЕХ слов???\n",
    "    return (not_spam_list.get(word, 0) + 1) / (total_not_spam + 1)"
   ]
  },
  {
   "cell_type": "code",
   "execution_count": 27,
   "metadata": {},
   "outputs": [],
   "source": [
    "def calculate_P_B_A(body, label):\n",
    "    P_B_A = 0\n",
    "    for word in get_words(body):\n",
    "        P_B_A  += math.log(calculate_P_Bi_A(word, label)) #  здесь используем \"+\", а не \"*\", т.к. применяем логариф http://bazhenov.me/blog/2012/06/11/naive-bayes.html\n",
    "    return P_B_A"
   ]
  },
  {
   "cell_type": "code",
   "execution_count": 28,
   "metadata": {},
   "outputs": [],
   "source": [
    "def classify(email):   \n",
    "    P_A_B = math.log(pA) + calculate_P_B_A(email, SPAM) #  здесь используем \"+\", а не \"*\", т.к. применяем логариф\n",
    "    P_A_not_B = math.log(pNotA) + calculate_P_B_A(email, NOT_SPAM)\n",
    "    return P_A_B, P_A_not_B, P_A_B > P_A_not_B"
   ]
  },
  {
   "cell_type": "code",
   "execution_count": 29,
   "metadata": {},
   "outputs": [],
   "source": [
    "train()"
   ]
  },
  {
   "cell_type": "code",
   "execution_count": 30,
   "metadata": {},
   "outputs": [],
   "source": [
    "email = 'Перезвони по номеру +799999999 в течение 6 секунд и выиграй миллион рублей!'"
   ]
  },
  {
   "cell_type": "code",
   "execution_count": 31,
   "metadata": {},
   "outputs": [
    {
     "data": {
      "text/plain": [
       "(-41.17793218004819, -38.23195614397967, False)"
      ]
     },
     "execution_count": 31,
     "metadata": {},
     "output_type": "execute_result"
    }
   ],
   "source": [
    "classify(email)"
   ]
  },
  {
   "cell_type": "code",
   "execution_count": 32,
   "metadata": {},
   "outputs": [],
   "source": [
    "if classify(email)[2] == True:\n",
    "    if [email, SPAM] not in train_data:\n",
    "        train_data.append([email, SPAM])"
   ]
  },
  {
   "cell_type": "code",
   "execution_count": null,
   "metadata": {},
   "outputs": [],
   "source": []
  }
 ],
 "metadata": {
  "kernelspec": {
   "display_name": "Python 3",
   "language": "python",
   "name": "python3"
  },
  "language_info": {
   "codemirror_mode": {
    "name": "ipython",
    "version": 3
   },
   "file_extension": ".py",
   "mimetype": "text/x-python",
   "name": "python",
   "nbconvert_exporter": "python",
   "pygments_lexer": "ipython3",
   "version": "3.7.4"
  }
 },
 "nbformat": 4,
 "nbformat_minor": 2
}
