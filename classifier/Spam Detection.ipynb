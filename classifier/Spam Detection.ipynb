{
 "cells": [
  {
   "cell_type": "code",
   "execution_count": 29,
   "metadata": {},
   "outputs": [],
   "source": [
    "import math\n",
    "import string"
   ]
  },
  {
   "cell_type": "code",
   "execution_count": 30,
   "metadata": {},
   "outputs": [],
   "source": [
    "pA, pNotA = 0, 0"
   ]
  },
  {
   "cell_type": "code",
   "execution_count": 31,
   "metadata": {},
   "outputs": [],
   "source": [
    "SPAM, NOT_SPAM = 1, 0"
   ]
  },
  {
   "cell_type": "code",
   "execution_count": 32,
   "metadata": {},
   "outputs": [],
   "source": [
    "spam_list, not_spam_list = {}, {}"
   ]
  },
  {
   "cell_type": "code",
   "execution_count": 33,
   "metadata": {},
   "outputs": [],
   "source": [
    "total_spam, total_not_spam = 0,0"
   ]
  },
  {
   "cell_type": "code",
   "execution_count": 34,
   "metadata": {},
   "outputs": [],
   "source": [
    "def get_words(body):\n",
    "    first = body.lower()\n",
    "    second = str.maketrans(dict.fromkeys(string.punctuation))\n",
    "    third = first.translate(second)\n",
    "    body = third.split()\n",
    "#     print(body)\n",
    "    return body"
   ]
  },
  {
   "cell_type": "code",
   "execution_count": 35,
   "metadata": {},
   "outputs": [],
   "source": [
    "def calculate_word_frequencies(body, label):\n",
    "    global spam_list, not_spam_list, total_spam, total_not_spam\n",
    "    words = get_words(body)\n",
    "    for word in words:\n",
    "        if label ==  SPAM:\n",
    "            spam_list[word] = spam_list.get(word, 0) + 1\n",
    "            total_spam += 1\n",
    "        else:\n",
    "            not_spam_list[word] = not_spam_list.get(word, 0) + 1\n",
    "            total_not_spam += 1"
   ]
  },
  {
   "cell_type": "code",
   "execution_count": 36,
   "metadata": {},
   "outputs": [],
   "source": [
    "def train():\n",
    "    global pA, pNotA, train_data\n",
    "    num_spam = 0\n",
    "    for words,label in train_data:\n",
    "        calculate_word_frequencies(words, label)\n",
    "        if label == SPAM:\n",
    "            num_spam += 1\n",
    "    pA =  num_spam / len(train_data)\n",
    "    pNotA = 1 - pA"
   ]
  },
  {
   "cell_type": "code",
   "execution_count": 37,
   "metadata": {},
   "outputs": [],
   "source": [
    "def calculate_P_Bi_A(word, label):\n",
    "    if label == SPAM: \n",
    "        return (spam_list.get(word, 0) + 1) / (total_spam + 1)# !!!!  Может в знаменателе сумма ВСЕХ слов???\n",
    "    return (not_spam_list.get(word, 0) + 1) / (total_not_spam + 1)"
   ]
  },
  {
   "cell_type": "code",
   "execution_count": 38,
   "metadata": {},
   "outputs": [],
   "source": [
    "def calculate_P_B_A(body, label):\n",
    "    P_B_A = 0\n",
    "    for word in get_words(body):\n",
    "        P_B_A  += math.log(calculate_P_Bi_A(word, label)) #  здесь используем \"+\", а не \"*\", т.к. применяем логариф http://bazhenov.me/blog/2012/06/11/naive-bayes.html\n",
    "    return P_B_A"
   ]
  },
  {
   "cell_type": "code",
   "execution_count": 39,
   "metadata": {},
   "outputs": [],
   "source": [
    "def classify(email):   \n",
    "    P_A_B = math.log(pA) + calculate_P_B_A(email, SPAM) #  здесь используем \"+\", а не \"*\", т.к. применяем логариф\n",
    "    P_A_not_B = math.log(pNotA) + calculate_P_B_A(email, NOT_SPAM)\n",
    "    return P_A_B, P_A_not_B, P_A_B > P_A_not_B"
   ]
  },
  {
   "cell_type": "code",
   "execution_count": 40,
   "metadata": {},
   "outputs": [
    {
     "name": "stdout",
     "output_type": "stream",
     "text": [
      "['купите', 'новое', 'чистящее', 'средство']\n",
      "['купи', 'мою', 'новую', 'книгу']\n",
      "['подари', 'себе', 'новый', 'телефон']\n",
      "['добро', 'пожаловать', 'и', 'купите', 'новый', 'телевизор']\n",
      "['привет', 'давно', 'не', 'виделись']\n",
      "['довезем', 'до', 'аэропорта', 'из', 'пригорода', 'всего', 'за', '399', 'рублей']\n",
      "['добро', 'пожаловать', 'в', 'мой', 'круг']\n",
      "['я', 'все', 'еще', 'жду', 'документы']\n",
      "['приглашаем', 'на', 'конференцию', 'data', 'science']\n",
      "['потерял', 'твой', 'телефон', 'напомни']\n",
      "['порадуй', 'своего', 'питомца', 'новым', 'костюмом']\n"
     ]
    }
   ],
   "source": [
    "train()"
   ]
  },
  {
   "cell_type": "code",
   "execution_count": 41,
   "metadata": {},
   "outputs": [],
   "source": [
    "email1 = 'Hi, My name is Warren E. Buffett an American business magnate, investor and philanthropist. am the most successful investor in the world. I believe strongly in‘giving while living’ I had one idea that never changed in my mind? that you should use your wealth to help people and i have decided to give {$1,500,000.00} One Million Five Hundred Thousand United Dollars, to randomly selected individuals worldwide. On receipt of this email, you should count yourself as the lucky individual. Your email address was chosen online while searching at random. Kindly get back to me at your earliest convenience before i travel to japan for my treatment , so I know your email address is valid. Thank you for accepting our offer, we are indeed grateful You Can Google my name for more information: God bless you. Best Regard Mr.Warren E. Buffett Billionaire investor !'"
   ]
  },
  {
   "cell_type": "code",
   "execution_count": 42,
   "metadata": {},
   "outputs": [],
   "source": [
    "email3 = 'As a result of your application for the position of Data Engineer, I would like to invite you to attend an interview on May 30, at 9 a.m. at our office in Washington, DC. You will have an interview with the department manager, Moris Peterson. The interview will last about 45 minutes. If the date or time of the interview is inconvenient, please contact me by phone or email to arrange another appointment. We look forward to seeing you.'"
   ]
  },
  {
   "cell_type": "code",
   "execution_count": 43,
   "metadata": {},
   "outputs": [],
   "source": [
    "email2 = \" Hi guys I want to build a website like REDACTED and I wanted to get your perspective of whether that site is good from the users' perspective before I go ahead and build something similar. I think that the design of the site is very modern and nice but I am not sure how people would react to a similar site? I look forward to your feedback. Many thanks!\""
   ]
  },
  {
   "cell_type": "code",
   "execution_count": 44,
   "metadata": {},
   "outputs": [
    {
     "name": "stdout",
     "output_type": "stream",
     "text": [
      "['hi', 'my', 'name', 'is', 'warren', 'e', 'buffett', 'an', 'american', 'business', 'magnate', 'investor', 'and', 'philanthropist', 'am', 'the', 'most', 'successful', 'investor', 'in', 'the', 'world', 'i', 'believe', 'strongly', 'in‘giving', 'while', 'living’', 'i', 'had', 'one', 'idea', 'that', 'never', 'changed', 'in', 'my', 'mind', 'that', 'you', 'should', 'use', 'your', 'wealth', 'to', 'help', 'people', 'and', 'i', 'have', 'decided', 'to', 'give', '150000000', 'one', 'million', 'five', 'hundred', 'thousand', 'united', 'dollars', 'to', 'randomly', 'selected', 'individuals', 'worldwide', 'on', 'receipt', 'of', 'this', 'email', 'you', 'should', 'count', 'yourself', 'as', 'the', 'lucky', 'individual', 'your', 'email', 'address', 'was', 'chosen', 'online', 'while', 'searching', 'at', 'random', 'kindly', 'get', 'back', 'to', 'me', 'at', 'your', 'earliest', 'convenience', 'before', 'i', 'travel', 'to', 'japan', 'for', 'my', 'treatment', 'so', 'i', 'know', 'your', 'email', 'address', 'is', 'valid', 'thank', 'you', 'for', 'accepting', 'our', 'offer', 'we', 'are', 'indeed', 'grateful', 'you', 'can', 'google', 'my', 'name', 'for', 'more', 'information', 'god', 'bless', 'you', 'best', 'regard', 'mrwarren', 'e', 'buffett', 'billionaire', 'investor']\n",
      "['hi', 'my', 'name', 'is', 'warren', 'e', 'buffett', 'an', 'american', 'business', 'magnate', 'investor', 'and', 'philanthropist', 'am', 'the', 'most', 'successful', 'investor', 'in', 'the', 'world', 'i', 'believe', 'strongly', 'in‘giving', 'while', 'living’', 'i', 'had', 'one', 'idea', 'that', 'never', 'changed', 'in', 'my', 'mind', 'that', 'you', 'should', 'use', 'your', 'wealth', 'to', 'help', 'people', 'and', 'i', 'have', 'decided', 'to', 'give', '150000000', 'one', 'million', 'five', 'hundred', 'thousand', 'united', 'dollars', 'to', 'randomly', 'selected', 'individuals', 'worldwide', 'on', 'receipt', 'of', 'this', 'email', 'you', 'should', 'count', 'yourself', 'as', 'the', 'lucky', 'individual', 'your', 'email', 'address', 'was', 'chosen', 'online', 'while', 'searching', 'at', 'random', 'kindly', 'get', 'back', 'to', 'me', 'at', 'your', 'earliest', 'convenience', 'before', 'i', 'travel', 'to', 'japan', 'for', 'my', 'treatment', 'so', 'i', 'know', 'your', 'email', 'address', 'is', 'valid', 'thank', 'you', 'for', 'accepting', 'our', 'offer', 'we', 'are', 'indeed', 'grateful', 'you', 'can', 'google', 'my', 'name', 'for', 'more', 'information', 'god', 'bless', 'you', 'best', 'regard', 'mrwarren', 'e', 'buffett', 'billionaire', 'investor']\n"
     ]
    },
    {
     "data": {
      "text/plain": [
       "(-497.1102095318118, -452.07210126977293, False)"
      ]
     },
     "execution_count": 44,
     "metadata": {},
     "output_type": "execute_result"
    }
   ],
   "source": [
    "classify(email1)"
   ]
  },
  {
   "cell_type": "code",
   "execution_count": 45,
   "metadata": {},
   "outputs": [],
   "source": [
    "# if classify(email)[2] == True:\n",
    "#     if [email, SPAM] not in train_data:\n",
    "#         train_data.append([email, SPAM])"
   ]
  },
  {
   "cell_type": "code",
   "execution_count": 46,
   "metadata": {},
   "outputs": [
    {
     "name": "stdout",
     "output_type": "stream",
     "text": [
      "['hi', 'guys', 'i', 'want', 'to', 'build', 'a', 'website', 'like', 'redacted', 'and', 'i', 'wanted', 'to', 'get', 'your', 'perspective', 'of', 'whether', 'that', 'site', 'is', 'good', 'from', 'the', 'users', 'perspective', 'before', 'i', 'go', 'ahead', 'and', 'build', 'something', 'similar', 'i', 'think', 'that', 'the', 'design', 'of', 'the', 'site', 'is', 'very', 'modern', 'and', 'nice', 'but', 'i', 'am', 'not', 'sure', 'how', 'people', 'would', 'react', 'to', 'a', 'similar', 'site', 'i', 'look', 'forward', 'to', 'your', 'feedback', 'many', 'thanks']\n",
      "['hi', 'guys', 'i', 'want', 'to', 'build', 'a', 'website', 'like', 'redacted', 'and', 'i', 'wanted', 'to', 'get', 'your', 'perspective', 'of', 'whether', 'that', 'site', 'is', 'good', 'from', 'the', 'users', 'perspective', 'before', 'i', 'go', 'ahead', 'and', 'build', 'something', 'similar', 'i', 'think', 'that', 'the', 'design', 'of', 'the', 'site', 'is', 'very', 'modern', 'and', 'nice', 'but', 'i', 'am', 'not', 'sure', 'how', 'people', 'would', 'react', 'to', 'a', 'similar', 'site', 'i', 'look', 'forward', 'to', 'your', 'feedback', 'many', 'thanks']\n"
     ]
    },
    {
     "data": {
      "text/plain": [
       "(-241.86515754475732, -220.0741716543727, False)"
      ]
     },
     "execution_count": 46,
     "metadata": {},
     "output_type": "execute_result"
    }
   ],
   "source": [
    "classify(email2)"
   ]
  },
  {
   "cell_type": "code",
   "execution_count": 47,
   "metadata": {},
   "outputs": [
    {
     "name": "stdout",
     "output_type": "stream",
     "text": [
      "['as', 'a', 'result', 'of', 'your', 'application', 'for', 'the', 'position', 'of', 'data', 'engineer', 'i', 'would', 'like', 'to', 'invite', 'you', 'to', 'attend', 'an', 'interview', 'on', 'may', '30', 'at', '9', 'am', 'at', 'our', 'office', 'in', 'washington', 'dc', 'you', 'will', 'have', 'an', 'interview', 'with', 'the', 'department', 'manager', 'moris', 'peterson', 'the', 'interview', 'will', 'last', 'about', '45', 'minutes', 'if', 'the', 'date', 'or', 'time', 'of', 'the', 'interview', 'is', 'inconvenient', 'please', 'contact', 'me', 'by', 'phone', 'or', 'email', 'to', 'arrange', 'another', 'appointment', 'we', 'look', 'forward', 'to', 'seeing', 'you']\n",
      "['as', 'a', 'result', 'of', 'your', 'application', 'for', 'the', 'position', 'of', 'data', 'engineer', 'i', 'would', 'like', 'to', 'invite', 'you', 'to', 'attend', 'an', 'interview', 'on', 'may', '30', 'at', '9', 'am', 'at', 'our', 'office', 'in', 'washington', 'dc', 'you', 'will', 'have', 'an', 'interview', 'with', 'the', 'department', 'manager', 'moris', 'peterson', 'the', 'interview', 'will', 'last', 'about', '45', 'minutes', 'if', 'the', 'date', 'or', 'time', 'of', 'the', 'interview', 'is', 'inconvenient', 'please', 'contact', 'me', 'by', 'phone', 'or', 'email', 'to', 'arrange', 'another', 'appointment', 'we', 'look', 'forward', 'to', 'seeing', 'you']\n"
     ]
    },
    {
     "data": {
      "text/plain": [
       "(-276.8302331594222, -251.16156277729223, False)"
      ]
     },
     "execution_count": 47,
     "metadata": {},
     "output_type": "execute_result"
    }
   ],
   "source": [
    "classify(email3)"
   ]
  },
  {
   "cell_type": "code",
   "execution_count": null,
   "metadata": {},
   "outputs": [],
   "source": []
  }
 ],
 "metadata": {
  "kernelspec": {
   "display_name": "Python 3",
   "language": "python",
   "name": "python3"
  },
  "language_info": {
   "codemirror_mode": {
    "name": "ipython",
    "version": 3
   },
   "file_extension": ".py",
   "mimetype": "text/x-python",
   "name": "python",
   "nbconvert_exporter": "python",
   "pygments_lexer": "ipython3",
   "version": "3.7.4"
  }
 },
 "nbformat": 4,
 "nbformat_minor": 2
}
